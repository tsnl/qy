{
 "cells": [
  {
   "cell_type": "markdown",
   "metadata": {},
   "source": [
    "# compiler reqs\n",
    "\n",
    "(Please read pt2 first on module system)\n",
    "\n",
    "After constructing a graph of directories, we need to run 2 passes: declaration and definition.\n",
    "\n",
    "### 01 - declaration\n",
    "\n",
    "- for each module, can assemble public (and private) declarations, initialize global symbol table with global symbols \n",
    "  and their types, ...\n",
    "  - private symbols are given a module-unique prefix\n",
    "  - means context...\n",
    "    - needs to be module-aware-- both at creation-time and lookup\n",
    "    - needs to have 2 symbol tables: a public and private one, with different keys\n",
    "- typer runs here ('seeding phase')\n",
    "\n",
    "### 02 - symbol linking\n",
    "\n",
    "- can run declaration for all modules in parallel and in any order.\n",
    "  - `use` statements tell the compiler a symbol is exported by another module that is linked\n",
    "    - they do not need to specify which module or where-- single global namespace like C.\n",
    "- **can 'link' symbol tables together in one synchronous post-pass**\n",
    "  - merge and ensure no conflicts\n",
    "  - resolve holes via unification\n",
    "- typer runs here ('definitions phase')\n",
    "\n",
    "### 03 - definition\n",
    "\n",
    "- ~~translate function definitions into LLVM bytecode and C header pairs~~\n",
    "  - ~~`.ll/.h` pairs are just like `.c/.h` pairs-- we can expose pre-processor constants in `.h` files.~~\n",
    "  - just emit `.c/.h` pairs instead... KISS + debug easily\n",
    "  - can use identical symbol table for each process: consider `pickle` + `multiprocessing.shared_memory`?\n",
    "- process blocking is OK; OS will take yielded thread-compute-resource and use it for another process\n",
    "\n",
    "### 04 - delegation\n",
    "\n",
    "- after all processes have joined, we can invoke a C compiler to transform `.c/.h` pairs into object files.\n",
    "- can also mix in external C/C++ projects where helpful.\n",
    "  - will need an `extern` mechanism..."
   ]
  }
 ],
 "metadata": {
  "interpreter": {
   "hash": "aee8b7b246df8f9039afb4144a1f6fd8d2ca17a180786b69acc140d282b71a49"
  },
  "kernelspec": {
   "display_name": "Python 3.9.7 64-bit",
   "name": "python3"
  },
  "language_info": {
   "codemirror_mode": {
    "name": "ipython",
    "version": 3
   },
   "file_extension": ".py",
   "mimetype": "text/x-python",
   "name": "python",
   "nbconvert_exporter": "python",
   "pygments_lexer": "ipython3",
   "version": "3.9.7"
  }
 },
 "nbformat": 4,
 "nbformat_minor": 4
}